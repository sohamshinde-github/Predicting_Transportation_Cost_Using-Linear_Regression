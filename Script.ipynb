{
 "cells": [
  {
   "cell_type": "code",
   "execution_count": 60,
   "metadata": {},
   "outputs": [],
   "source": [
    "import numpy as np\n",
    "import pandas as pd\n",
    "import matplotlib.pyplot as plt\n",
    "import seaborn as sns\n",
    "%matplotlib inline"
   ]
  },
  {
   "cell_type": "code",
   "execution_count": 61,
   "metadata": {},
   "outputs": [],
   "source": [
    "duffy = pd.read_csv('duffy_data.csv')"
   ]
  },
  {
   "cell_type": "code",
   "execution_count": 62,
   "metadata": {},
   "outputs": [
    {
     "data": {
      "text/html": [
       "<div>\n",
       "<style scoped>\n",
       "    .dataframe tbody tr th:only-of-type {\n",
       "        vertical-align: middle;\n",
       "    }\n",
       "\n",
       "    .dataframe tbody tr th {\n",
       "        vertical-align: top;\n",
       "    }\n",
       "\n",
       "    .dataframe thead th {\n",
       "        text-align: right;\n",
       "    }\n",
       "</style>\n",
       "<table border=\"1\" class=\"dataframe\">\n",
       "  <thead>\n",
       "    <tr style=\"text-align: right;\">\n",
       "      <th></th>\n",
       "      <th>ID</th>\n",
       "      <th>Cost per load</th>\n",
       "      <th>Dist</th>\n",
       "      <th>Lead time(days)</th>\n",
       "      <th>Trailer length(feet)</th>\n",
       "      <th>Wgt(Lb)</th>\n",
       "      <th>Equipment</th>\n",
       "      <th>Unnamed: 7</th>\n",
       "      <th>Unnamed: 8</th>\n",
       "      <th>Unnamed: 9</th>\n",
       "    </tr>\n",
       "  </thead>\n",
       "  <tbody>\n",
       "    <tr>\n",
       "      <th>0</th>\n",
       "      <td>1</td>\n",
       "      <td>3692</td>\n",
       "      <td>1579</td>\n",
       "      <td>1</td>\n",
       "      <td>53</td>\n",
       "      <td>20559</td>\n",
       "      <td>DRY</td>\n",
       "      <td>NaN</td>\n",
       "      <td>NaN</td>\n",
       "      <td>NaN</td>\n",
       "    </tr>\n",
       "    <tr>\n",
       "      <th>1</th>\n",
       "      <td>2</td>\n",
       "      <td>3279</td>\n",
       "      <td>1298</td>\n",
       "      <td>12</td>\n",
       "      <td>48</td>\n",
       "      <td>17025</td>\n",
       "      <td>REF</td>\n",
       "      <td>NaN</td>\n",
       "      <td>NaN</td>\n",
       "      <td>NaN</td>\n",
       "    </tr>\n",
       "    <tr>\n",
       "      <th>2</th>\n",
       "      <td>3</td>\n",
       "      <td>3120</td>\n",
       "      <td>1382</td>\n",
       "      <td>11</td>\n",
       "      <td>48</td>\n",
       "      <td>26735</td>\n",
       "      <td>DRY</td>\n",
       "      <td>NaN</td>\n",
       "      <td>NaN</td>\n",
       "      <td>NaN</td>\n",
       "    </tr>\n",
       "    <tr>\n",
       "      <th>3</th>\n",
       "      <td>4</td>\n",
       "      <td>3205</td>\n",
       "      <td>1033</td>\n",
       "      <td>1</td>\n",
       "      <td>53</td>\n",
       "      <td>26175</td>\n",
       "      <td>DRY</td>\n",
       "      <td>NaN</td>\n",
       "      <td>NaN</td>\n",
       "      <td>NaN</td>\n",
       "    </tr>\n",
       "    <tr>\n",
       "      <th>4</th>\n",
       "      <td>5</td>\n",
       "      <td>3188</td>\n",
       "      <td>1320</td>\n",
       "      <td>3</td>\n",
       "      <td>53</td>\n",
       "      <td>17994</td>\n",
       "      <td>DRY</td>\n",
       "      <td>NaN</td>\n",
       "      <td>NaN</td>\n",
       "      <td>NaN</td>\n",
       "    </tr>\n",
       "  </tbody>\n",
       "</table>\n",
       "</div>"
      ],
      "text/plain": [
       "   ID  Cost per load  Dist  Lead time(days)  Trailer length(feet)  Wgt(Lb)  \\\n",
       "0   1           3692  1579                1                    53    20559   \n",
       "1   2           3279  1298               12                    48    17025   \n",
       "2   3           3120  1382               11                    48    26735   \n",
       "3   4           3205  1033                1                    53    26175   \n",
       "4   5           3188  1320                3                    53    17994   \n",
       "\n",
       "  Equipment  Unnamed: 7  Unnamed: 8  Unnamed: 9  \n",
       "0       DRY         NaN         NaN         NaN  \n",
       "1       REF         NaN         NaN         NaN  \n",
       "2       DRY         NaN         NaN         NaN  \n",
       "3       DRY         NaN         NaN         NaN  \n",
       "4       DRY         NaN         NaN         NaN  "
      ]
     },
     "execution_count": 62,
     "metadata": {},
     "output_type": "execute_result"
    }
   ],
   "source": [
    "duffy.head()"
   ]
  },
  {
   "cell_type": "code",
   "execution_count": 63,
   "metadata": {},
   "outputs": [
    {
     "data": {
      "text/html": [
       "<div>\n",
       "<style scoped>\n",
       "    .dataframe tbody tr th:only-of-type {\n",
       "        vertical-align: middle;\n",
       "    }\n",
       "\n",
       "    .dataframe tbody tr th {\n",
       "        vertical-align: top;\n",
       "    }\n",
       "\n",
       "    .dataframe thead th {\n",
       "        text-align: right;\n",
       "    }\n",
       "</style>\n",
       "<table border=\"1\" class=\"dataframe\">\n",
       "  <thead>\n",
       "    <tr style=\"text-align: right;\">\n",
       "      <th></th>\n",
       "      <th>ID</th>\n",
       "      <th>Cost per load</th>\n",
       "      <th>Dist</th>\n",
       "      <th>Lead time(days)</th>\n",
       "      <th>Trailer length(feet)</th>\n",
       "      <th>Wgt(Lb)</th>\n",
       "      <th>Unnamed: 7</th>\n",
       "      <th>Unnamed: 8</th>\n",
       "      <th>Unnamed: 9</th>\n",
       "    </tr>\n",
       "  </thead>\n",
       "  <tbody>\n",
       "    <tr>\n",
       "      <th>count</th>\n",
       "      <td>100.000000</td>\n",
       "      <td>100.000000</td>\n",
       "      <td>100.00000</td>\n",
       "      <td>100.00000</td>\n",
       "      <td>100.000000</td>\n",
       "      <td>100.000000</td>\n",
       "      <td>0.0</td>\n",
       "      <td>0.0</td>\n",
       "      <td>0.0</td>\n",
       "    </tr>\n",
       "    <tr>\n",
       "      <th>mean</th>\n",
       "      <td>50.500000</td>\n",
       "      <td>3131.600000</td>\n",
       "      <td>1207.18000</td>\n",
       "      <td>5.87000</td>\n",
       "      <td>51.250000</td>\n",
       "      <td>26708.180000</td>\n",
       "      <td>NaN</td>\n",
       "      <td>NaN</td>\n",
       "      <td>NaN</td>\n",
       "    </tr>\n",
       "    <tr>\n",
       "      <th>std</th>\n",
       "      <td>29.011492</td>\n",
       "      <td>655.358519</td>\n",
       "      <td>386.84242</td>\n",
       "      <td>3.96106</td>\n",
       "      <td>2.396862</td>\n",
       "      <td>7069.840196</td>\n",
       "      <td>NaN</td>\n",
       "      <td>NaN</td>\n",
       "      <td>NaN</td>\n",
       "    </tr>\n",
       "    <tr>\n",
       "      <th>min</th>\n",
       "      <td>1.000000</td>\n",
       "      <td>1660.000000</td>\n",
       "      <td>502.00000</td>\n",
       "      <td>0.00000</td>\n",
       "      <td>48.000000</td>\n",
       "      <td>15100.000000</td>\n",
       "      <td>NaN</td>\n",
       "      <td>NaN</td>\n",
       "      <td>NaN</td>\n",
       "    </tr>\n",
       "    <tr>\n",
       "      <th>25%</th>\n",
       "      <td>25.750000</td>\n",
       "      <td>2631.750000</td>\n",
       "      <td>904.00000</td>\n",
       "      <td>2.75000</td>\n",
       "      <td>48.000000</td>\n",
       "      <td>21220.750000</td>\n",
       "      <td>NaN</td>\n",
       "      <td>NaN</td>\n",
       "      <td>NaN</td>\n",
       "    </tr>\n",
       "    <tr>\n",
       "      <th>50%</th>\n",
       "      <td>50.500000</td>\n",
       "      <td>3166.000000</td>\n",
       "      <td>1273.00000</td>\n",
       "      <td>6.00000</td>\n",
       "      <td>53.000000</td>\n",
       "      <td>26513.500000</td>\n",
       "      <td>NaN</td>\n",
       "      <td>NaN</td>\n",
       "      <td>NaN</td>\n",
       "    </tr>\n",
       "    <tr>\n",
       "      <th>75%</th>\n",
       "      <td>75.250000</td>\n",
       "      <td>3701.250000</td>\n",
       "      <td>1538.25000</td>\n",
       "      <td>9.00000</td>\n",
       "      <td>53.000000</td>\n",
       "      <td>32276.000000</td>\n",
       "      <td>NaN</td>\n",
       "      <td>NaN</td>\n",
       "      <td>NaN</td>\n",
       "    </tr>\n",
       "    <tr>\n",
       "      <th>max</th>\n",
       "      <td>100.000000</td>\n",
       "      <td>4301.000000</td>\n",
       "      <td>1793.00000</td>\n",
       "      <td>13.00000</td>\n",
       "      <td>53.000000</td>\n",
       "      <td>39931.000000</td>\n",
       "      <td>NaN</td>\n",
       "      <td>NaN</td>\n",
       "      <td>NaN</td>\n",
       "    </tr>\n",
       "  </tbody>\n",
       "</table>\n",
       "</div>"
      ],
      "text/plain": [
       "               ID  Cost per load        Dist  Lead time(days)  \\\n",
       "count  100.000000     100.000000   100.00000        100.00000   \n",
       "mean    50.500000    3131.600000  1207.18000          5.87000   \n",
       "std     29.011492     655.358519   386.84242          3.96106   \n",
       "min      1.000000    1660.000000   502.00000          0.00000   \n",
       "25%     25.750000    2631.750000   904.00000          2.75000   \n",
       "50%     50.500000    3166.000000  1273.00000          6.00000   \n",
       "75%     75.250000    3701.250000  1538.25000          9.00000   \n",
       "max    100.000000    4301.000000  1793.00000         13.00000   \n",
       "\n",
       "       Trailer length(feet)       Wgt(Lb)  Unnamed: 7  Unnamed: 8  Unnamed: 9  \n",
       "count            100.000000    100.000000         0.0         0.0         0.0  \n",
       "mean              51.250000  26708.180000         NaN         NaN         NaN  \n",
       "std                2.396862   7069.840196         NaN         NaN         NaN  \n",
       "min               48.000000  15100.000000         NaN         NaN         NaN  \n",
       "25%               48.000000  21220.750000         NaN         NaN         NaN  \n",
       "50%               53.000000  26513.500000         NaN         NaN         NaN  \n",
       "75%               53.000000  32276.000000         NaN         NaN         NaN  \n",
       "max               53.000000  39931.000000         NaN         NaN         NaN  "
      ]
     },
     "execution_count": 63,
     "metadata": {},
     "output_type": "execute_result"
    }
   ],
   "source": [
    "duffy.describe()"
   ]
  },
  {
   "cell_type": "code",
   "execution_count": 64,
   "metadata": {},
   "outputs": [
    {
     "name": "stdout",
     "output_type": "stream",
     "text": [
      "<class 'pandas.core.frame.DataFrame'>\n",
      "RangeIndex: 100 entries, 0 to 99\n",
      "Data columns (total 10 columns):\n",
      " #   Column                Non-Null Count  Dtype  \n",
      "---  ------                --------------  -----  \n",
      " 0   ID                    100 non-null    int64  \n",
      " 1   Cost per load         100 non-null    int64  \n",
      " 2   Dist                  100 non-null    int64  \n",
      " 3   Lead time(days)       100 non-null    int64  \n",
      " 4   Trailer length(feet)  100 non-null    int64  \n",
      " 5   Wgt(Lb)               100 non-null    int64  \n",
      " 6   Equipment             100 non-null    object \n",
      " 7   Unnamed: 7            0 non-null      float64\n",
      " 8   Unnamed: 8            0 non-null      float64\n",
      " 9   Unnamed: 9            0 non-null      float64\n",
      "dtypes: float64(3), int64(6), object(1)\n",
      "memory usage: 7.9+ KB\n"
     ]
    }
   ],
   "source": [
    "duffy.info()"
   ]
  },
  {
   "cell_type": "code",
   "execution_count": 69,
   "metadata": {},
   "outputs": [
    {
     "data": {
      "text/plain": [
       "<seaborn.axisgrid.FacetGrid at 0x7ff7420e1760>"
      ]
     },
     "execution_count": 69,
     "metadata": {},
     "output_type": "execute_result"
    },
    {
     "data": {
      "image/png": "[encoded data removed]",
      "text/plain": [
       "<Figure size 360x360 with 1 Axes>"
      ]
     },
     "metadata": {
      "needs_background": "light"
     },
     "output_type": "display_data"
    }
   ],
   "source": [
    "sns.lmplot(x='Cost per load',y='Dist',data=duffy)"
   ]
  },
  {
   "cell_type": "code",
   "execution_count": 75,
   "metadata": {},
   "outputs": [
    {
     "data": {
      "text/plain": [
       "<seaborn.axisgrid.FacetGrid at 0x7ff742d2b910>"
      ]
     },
     "execution_count": 75,
     "metadata": {},
     "output_type": "execute_result"
    },
    {
     "data": {
      "image/png": "[encoded data removed]",
      "text/plain": [
       "<Figure size 360x360 with 1 Axes>"
      ]
     },
     "metadata": {
      "needs_background": "light"
     },
     "output_type": "display_data"
    }
   ],
   "source": [
    "sns.lmplot(x=\"Cost per load\",y=\"Lead time(days)\",data=duffy)"
   ]
  },
  {
   "cell_type": "code",
   "execution_count": 78,
   "metadata": {},
   "outputs": [
    {
     "data": {
      "text/plain": [
       "<seaborn.axisgrid.FacetGrid at 0x7ff743583bb0>"
      ]
     },
     "execution_count": 78,
     "metadata": {},
     "output_type": "execute_result"
    },
    {
     "data": {
      "image/png": "[encoded data removed]",
      "text/plain": [
       "<Figure size 360x360 with 1 Axes>"
      ]
     },
     "metadata": {
      "needs_background": "light"
     },
     "output_type": "display_data"
    }
   ],
   "source": [
    "sns.lmplot(x=\"Cost per load\",y=\"Wgt(Lb)\",data=duffy)"
   ]
  },
  {
   "cell_type": "code",
   "execution_count": 88,
   "metadata": {},
   "outputs": [],
   "source": [
    "X = pd.DataFrame(duffy[[\"Dist\",\"Lead time(days)\",\"Wgt(Lb)\"]])\n",
    "y = pd.DataFrame(duffy[[\"Cost per load\"]])"
   ]
  },
  {
   "cell_type": "code",
   "execution_count": 91,
   "metadata": {},
   "outputs": [],
   "source": [
    "from sklearn.model_selection import train_test_split"
   ]
  },
  {
   "cell_type": "code",
   "execution_count": 92,
   "metadata": {},
   "outputs": [],
   "source": [
    "X_train,X_test,y_train,y_test = train_test_split(X,y,test_size=0.3,random_state=101)"
   ]
  },
  {
   "cell_type": "code",
   "execution_count": 94,
   "metadata": {},
   "outputs": [],
   "source": [
    "from sklearn.linear_model import LinearRegression\n",
    "lm = LinearRegression()"
   ]
  },
  {
   "cell_type": "code",
   "execution_count": 100,
   "metadata": {},
   "outputs": [
    {
     "data": {
      "text/plain": [
       "LinearRegression()"
      ]
     },
     "execution_count": 100,
     "metadata": {},
     "output_type": "execute_result"
    }
   ],
   "source": [
    "lm.fit(X_train,y_train)"
   ]
  },
  {
   "cell_type": "code",
   "execution_count": 113,
   "metadata": {},
   "outputs": [
    {
     "name": "stdout",
     "output_type": "stream",
     "text": [
      "[[ 1.53955224e+00 -1.40858718e+01 -8.04650195e-04]]\n"
     ]
    }
   ],
   "source": [
    "print(lm.coef_)"
   ]
  },
  {
   "cell_type": "code",
   "execution_count": 115,
   "metadata": {},
   "outputs": [],
   "source": [
    "predictions = lm.predict(X_test)"
   ]
  },
  {
   "cell_type": "code",
   "execution_count": 123,
   "metadata": {},
   "outputs": [
    {
     "data": {
      "text/plain": [
       "Text(0, 0.5, 'y_predicted')"
      ]
     },
     "execution_count": 123,
     "metadata": {},
     "output_type": "execute_result"
    },
    {
     "data": {
      "image/png": "[encoded data removed]",
      "text/plain": [
       "<Figure size 432x288 with 1 Axes>"
      ]
     },
     "metadata": {
      "needs_background": "light"
     },
     "output_type": "display_data"
    }
   ],
   "source": [
    "data = plt.scatter(y_test,predictions)\n",
    "data\n",
    "plt.xlabel('y_test')\n",
    "plt.ylabel('y_predicted')"
   ]
  },
  {
   "cell_type": "code",
   "execution_count": 126,
   "metadata": {},
   "outputs": [
    {
     "data": {
      "text/html": [
       "<div>\n",
       "<style scoped>\n",
       "    .dataframe tbody tr th:only-of-type {\n",
       "        vertical-align: middle;\n",
       "    }\n",
       "\n",
       "    .dataframe tbody tr th {\n",
       "        vertical-align: top;\n",
       "    }\n",
       "\n",
       "    .dataframe thead th {\n",
       "        text-align: right;\n",
       "    }\n",
       "</style>\n",
       "<table border=\"1\" class=\"dataframe\">\n",
       "  <thead>\n",
       "    <tr style=\"text-align: right;\">\n",
       "      <th></th>\n",
       "      <th>0</th>\n",
       "    </tr>\n",
       "  </thead>\n",
       "  <tbody>\n",
       "    <tr>\n",
       "      <th>0</th>\n",
       "      <td>1.539552</td>\n",
       "    </tr>\n",
       "    <tr>\n",
       "      <th>1</th>\n",
       "      <td>-14.085872</td>\n",
       "    </tr>\n",
       "    <tr>\n",
       "      <th>2</th>\n",
       "      <td>-0.000805</td>\n",
       "    </tr>\n",
       "  </tbody>\n",
       "</table>\n",
       "</div>"
      ],
      "text/plain": [
       "           0\n",
       "0   1.539552\n",
       "1 -14.085872\n",
       "2  -0.000805"
      ]
     },
     "execution_count": 126,
     "metadata": {},
     "output_type": "execute_result"
    }
   ],
   "source": [
    "pd.DataFrame(lm.coef_)\n",
    "np.transpose(pd.DataFrame(lm.coef_))"
   ]
  },
  {
   "cell_type": "code",
   "execution_count": null,
   "metadata": {},
   "outputs": [],
   "source": []
  }
 ],
 "metadata": {
  "kernelspec": {
   "display_name": "Python 3",
   "language": "python",
   "name": "python3"
  },
  "language_info": {
   "codemirror_mode": {
    "name": "ipython",
    "version": 3
   },
   "file_extension": ".py",
   "mimetype": "text/x-python",
   "name": "python",
   "nbconvert_exporter": "python",
   "pygments_lexer": "ipython3",
   "version": "3.8.3"
  }
 },
 "nbformat": 4,
 "nbformat_minor": 4
}
